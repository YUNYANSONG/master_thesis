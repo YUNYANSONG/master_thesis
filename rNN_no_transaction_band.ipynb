{
 "cells": [
  {
   "cell_type": "code",
   "execution_count": 1,
   "id": "bdfff0ba",
   "metadata": {},
   "outputs": [],
   "source": [
    "import torch\n",
    "from torch import nn"
   ]
  },
  {
   "cell_type": "code",
   "execution_count": 2,
   "id": "4044e9a3",
   "metadata": {},
   "outputs": [],
   "source": [
    "import numpy as np"
   ]
  },
  {
   "cell_type": "code",
   "execution_count": 3,
   "id": "4f32db1d",
   "metadata": {},
   "outputs": [],
   "source": [
    "def check_gpu():\n",
    "    is_cuda = torch.cuda.is_available()\n",
    "    if is_cuda:\n",
    "        device = torch.device(\"cuda\")\n",
    "        print(\"GPU is avaiavle.\")\n",
    "    else:\n",
    "        device = torch.device(\"cpu\")\n",
    "        print(\"Using CPU, GPU is not available.\")\n",
    "    return device"
   ]
  },
  {
   "cell_type": "code",
   "execution_count": 4,
   "id": "4f44d2a8",
   "metadata": {},
   "outputs": [
    {
     "name": "stdout",
     "output_type": "stream",
     "text": [
      "Using CPU, GPU is not available.\n"
     ]
    }
   ],
   "source": [
    "device = check_gpu()"
   ]
  },
  {
   "cell_type": "code",
   "execution_count": null,
   "id": "792643ae",
   "metadata": {},
   "outputs": [],
   "source": [
    "class rNN_ntb(nn.Module):\n",
    "    def __init__(self, in_dim,out_dim,hidden_dim,n_layers):\n",
    "        super(rNN_ntb,self).init()"
   ]
  }
 ],
 "metadata": {
  "kernelspec": {
   "display_name": "Python 3 (ipykernel)",
   "language": "python",
   "name": "python3"
  },
  "language_info": {
   "codemirror_mode": {
    "name": "ipython",
    "version": 3
   },
   "file_extension": ".py",
   "mimetype": "text/x-python",
   "name": "python",
   "nbconvert_exporter": "python",
   "pygments_lexer": "ipython3",
   "version": "3.8.10"
  }
 },
 "nbformat": 4,
 "nbformat_minor": 5
}
